{
 "cells": [
  {
   "cell_type": "markdown",
   "metadata": {},
   "source": [
    "## Importação e Leitura dos Dados\n"
   ]
  },
  {
   "cell_type": "code",
   "execution_count": null,
   "metadata": {},
   "outputs": [],
   "source": [
    "import pandas as pd\n",
    "\n",
    "# Carregar os dados\n",
    "df = pd.read_csv(\"datasets/build/basquet_com_ME.csv\")\n",
    "df = df.dropna()\n",
    "df.head()\n"
   ]
  },
  {
   "cell_type": "markdown",
   "metadata": {},
   "source": [
    "## Seleção de Features e Divisão do Dataset"
   ]
  },
  {
   "cell_type": "code",
   "execution_count": null,
   "metadata": {},
   "outputs": [],
   "source": [
    "from sklearn.model_selection import train_test_split\n",
    "\n",
    "# Selecionar features e target\n",
    "X = df[[\"Open\", \"fng_value\", \"Price_diff\", \"RSI\", \"MA_14\",\"ME\",\"ME_Impact\"]]\n",
    "\n",
    "y = df[\"Close\"]\n",
    "\n",
    "# Split sem shuffle por ser série temporal\n",
    "X_train, X_test, y_train, y_test = train_test_split(X, y, shuffle=False, test_size=0.2)\n"
   ]
  },
  {
   "cell_type": "markdown",
   "metadata": {},
   "source": [
    "# Pré-Tratamento\n"
   ]
  },
  {
   "cell_type": "code",
   "execution_count": null,
   "metadata": {},
   "outputs": [],
   "source": [
    "from sklearn.preprocessing import StandardScaler\n",
    "import pandas as pd\n",
    "\n",
    "# separar coluna ME antes do scaling\n",
    "ME_train = X_train[['ME']]\n",
    "ME_test = X_test[['ME']]\n",
    "\n",
    "# Features numéricas contínuas (todas menos a ME)\n",
    "numeric_features = X_train.drop(columns=['ME']).columns\n",
    "\n",
    "# Escalar apenas as features numéricas contínuas\n",
    "scaler = StandardScaler()\n",
    "\n",
    "X_train_scaled = scaler.fit_transform(X_train[numeric_features])\n",
    "X_test_scaled = scaler.transform(X_test[numeric_features])\n",
    "\n",
    "# Converter novamente para DataFrame\n",
    "X_train_scaled = pd.DataFrame(X_train_scaled, columns=numeric_features, index=X_train.index)\n",
    "X_test_scaled = pd.DataFrame(X_test_scaled, columns=numeric_features, index=X_test.index)\n",
    "\n",
    "# Adicionar novamente coluna ME\n",
    "X_train_scaled['ME'] = ME_train\n",
    "X_test_scaled['ME'] = ME_test"
   ]
  },
  {
   "cell_type": "markdown",
   "metadata": {},
   "source": [
    "## Treinamento do Modelo AdaBoost"
   ]
  },
  {
   "cell_type": "code",
   "execution_count": null,
   "metadata": {},
   "outputs": [],
   "source": [
    "from sklearn.ensemble import AdaBoostRegressor\n",
    "\n",
    "ada_model = AdaBoostRegressor(n_estimators=500, learning_rate=0.05, random_state=42)\n",
    "ada_model.fit(X_train, y_train)\n"
   ]
  },
  {
   "cell_type": "code",
   "execution_count": null,
   "metadata": {},
   "outputs": [],
   "source": [
    "from sklearn.ensemble import RandomForestRegressor\n",
    "from sklearn.metrics import mean_squared_error\n",
    "import matplotlib.pyplot as plt\n",
    "\n",
    "model = RandomForestRegressor(n_estimators=100, random_state=42)\n",
    "model.fit(X_train_scaled, y_train)\n",
    "\n",
    "preds = model.predict(X_test_scaled)\n",
    "\n",
    "# Avaliação rápida\n",
    "mse = mean_squared_error(y_test, preds)\n",
    "print(\"MSE:\", mse)\n",
    "\n",
    "# Plot para visualizar\n",
    "plt.figure(figsize=(12, 6))\n",
    "plt.plot(y_test.values, label='Real', color='blue')\n",
    "plt.plot(preds, label='Previsto', color='orange')\n",
    "plt.legend()\n",
    "plt.title('Previsão com RandomForest (diagnóstico)')\n",
    "plt.show()"
   ]
  },
  {
   "cell_type": "code",
   "execution_count": null,
   "metadata": {},
   "outputs": [],
   "source": [
    "import matplotlib.pyplot as plt\n",
    "\n",
    "# Adicionar novamente a coluna 'Close' ao X_train para correlação\n",
    "X_corr = X_train_scaled.copy()\n",
    "X_corr['Close'] = y_train\n",
    "\n",
    "# Calcular a correlação com 'Close'\n",
    "correlation_with_close = X_corr.corr()['Close'].sort_values(ascending=False)\n",
    "\n",
    "# Plotar gráfico\n",
    "plt.figure(figsize=(8, 6))\n",
    "correlation_with_close.drop('Close').plot(kind='bar', color='skyblue')\n",
    "plt.title(\"Correlação das Features com o 'Close'\")\n",
    "plt.ylabel(\"Correlação\")\n",
    "plt.xlabel(\"Features\")\n",
    "plt.grid(axis='y')\n",
    "plt.show()\n",
    "\n",
    "# Exibir correlações numericamente\n",
    "print(correlation_with_close)"
   ]
  },
  {
   "cell_type": "markdown",
   "metadata": {},
   "source": [
    "## Avaliação do Modelo"
   ]
  },
  {
   "cell_type": "code",
   "execution_count": null,
   "metadata": {},
   "outputs": [],
   "source": [
    "from sklearn.metrics import mean_squared_error, mean_absolute_error\n",
    "import numpy as np\n",
    "\n",
    "y_pred = ada_model.predict(X_test)\n",
    "rmse = np.sqrt(mean_squared_error(y_test, y_pred))\n",
    "mae = mean_absolute_error(y_test, y_pred)\n",
    "\n",
    "print(\"RMSE:\", rmse)\n",
    "print(\"MAE:\", mae)\n",
    "\n"
   ]
  },
  {
   "cell_type": "markdown",
   "metadata": {},
   "source": [
    "## Visualização dos Resultados"
   ]
  },
  {
   "cell_type": "code",
   "execution_count": null,
   "metadata": {},
   "outputs": [],
   "source": [
    "import matplotlib.pyplot as plt\n",
    "import pandas as pd\n",
    "\n",
    "# Garante que 'Date' está no formato datetime\n",
    "df['Date'] = pd.to_datetime(df['Date'])\n",
    "\n",
    "# Ajustar datas para o teste\n",
    "dates_test = df['Date'].iloc[-len(y_test):]\n",
    "\n",
    "fig, axs = plt.subplots(2, 1, figsize=(14, 12), sharex=True)\n",
    "\n",
    "# 1. Preço Real vs Previsto + MA_14\n",
    "axs[0].plot(dates_test, y_test.values, label=\"Real\", linewidth=2)\n",
    "axs[0].plot(dates_test, y_pred, label=\"Predicted\", linewidth=2)\n",
    "axs[0].plot(dates_test, df[\"MA_14\"].values[-len(y_test):], label=\"MA 14\", color=\"red\", linestyle=\"--\")\n",
    "axs[0].set_title(\"Closing price: Real vs Predicted + MA_14 (AdaBoost)\")\n",
    "axs[0].set_ylabel(\"Price\")\n",
    "axs[0].legend()\n",
    "axs[0].grid(True)\n",
    "\n",
    "# 2. RSI\n",
    "axs[1].plot(dates_test, df[\"RSI\"].values[-len(y_test):], label=\"RSI\", color=\"purple\")\n",
    "axs[1].axhline(70, color=\"red\", linestyle=\"--\", linewidth=1)\n",
    "axs[1].axhline(30, color=\"green\", linestyle=\"--\", linewidth=1)\n",
    "axs[1].set_title(\"Relative Strength Index (RSI)\")\n",
    "axs[1].set_ylabel(\"RSI\")\n",
    "axs[1].set_xlabel(\"Date\")\n",
    "axs[1].legend()\n",
    "axs[1].grid(True)\n",
    "\n",
    "plt.tight_layout()\n",
    "plt.show()"
   ]
  },
  {
   "cell_type": "markdown",
   "metadata": {},
   "source": [
    "# XGBoost"
   ]
  },
  {
   "cell_type": "code",
   "execution_count": null,
   "metadata": {},
   "outputs": [],
   "source": [
    "\n",
    "# Modelo XGBoost\n",
    "model = XGBRegressor(n_estimators=500, learning_rate=0.05, random_state=42)\n",
    "model.fit(X_train_scaled, y_train)\n",
    "\n",
    "# Previsões\n",
    "y_pred = model.predict(X_test_scaled)\n",
    "\n",
    "# Avaliação\n",
    "mse = mean_squared_error(y_test, y_pred)\n",
    "print(\"MSE XGBoost:\", mse)\n",
    "\n",
    "# Visualização com Datas\n",
    "dates_test = df['Date'].iloc[-len(y_test):]\n",
    "\n",
    "fig, axs = plt.subplots(2, 1, figsize=(14, 12), sharex=True)\n",
    "\n",
    "# 1. Preço Real vs Previsto + MA_14\n",
    "axs[0].plot(dates_test, y_test.values, label=\"Real\", linewidth=2)\n",
    "axs[0].plot(dates_test, y_pred, label=\"Predicted\", linewidth=2)\n",
    "axs[0].plot(dates_test, df[\"MA_14\"].values[-len(y_test):], label=\"MA 14\", color=\"red\", linestyle=\"--\")\n",
    "axs[0].set_title(\"Closing price: Real vs Predicted + MA_14 (XGBoost)\")\n",
    "axs[0].set_ylabel(\"Price\")\n",
    "axs[0].legend()\n",
    "axs[0].grid(True)\n",
    "\n",
    "# 2. RSI\n",
    "axs[1].plot(dates_test, df[\"RSI\"].values[-len(y_test):], label=\"RSI\", color=\"purple\")\n",
    "axs[1].axhline(70, color=\"red\", linestyle=\"--\", linewidth=1)\n",
    "axs[1].axhline(30, color=\"green\", linestyle=\"--\", linewidth=1)\n",
    "axs[1].set_title(\"Relative Strength Index (RSI)\")\n",
    "axs[1].set_ylabel(\"RSI\")\n",
    "axs[1].set_xlabel(\"Date\")\n",
    "axs[1].legend()\n",
    "axs[1].grid(True)\n",
    "\n",
    "plt.tight_layout()\n",
    "plt.show()\n"
   ]
  },
  {
   "cell_type": "markdown",
   "metadata": {},
   "source": [
    "# LightGBM Regressor"
   ]
  },
  {
   "cell_type": "code",
   "execution_count": null,
   "metadata": {},
   "outputs": [],
   "source": [
    "\n",
    "# Modelo LightGBM\n",
    "lgbm_model = LGBMRegressor(\n",
    "    n_estimators=1000,\n",
    "    learning_rate=0.01,\n",
    "    max_depth=7,\n",
    "    num_leaves=31,\n",
    "    subsample=0.8,\n",
    "    colsample_bytree=0.8,\n",
    "    reg_alpha=0.1,\n",
    "    reg_lambda=0.1,\n",
    "    random_state=42\n",
    ")\n",
    "\n",
    "# Treinamento\n",
    "lgbm_model.fit(\n",
    "    X_train_scaled, \n",
    "    y_train,\n",
    "    eval_set=[(X_test_scaled, y_test)],\n",
    "    eval_metric='mse',\n",
    ")\n",
    "\n",
    "# Previsões\n",
    "y_pred = lgbm_model.predict(X_test_scaled)\n",
    "\n",
    "# Avaliação\n",
    "mse = mean_squared_error(y_test, y_pred)\n",
    "rmse = np.sqrt(mse)\n",
    "mae = mean_absolute_error(y_test, y_pred)\n",
    "r2 = r2_score(y_test, y_pred)\n",
    "\n",
    "print(f\"MSE LightGBM: {mse:.4f}\")\n",
    "print(f\"RMSE LightGBM: {rmse:.4f}\")\n",
    "print(f\"MAE LightGBM: {mae:.4f}\")\n",
    "print(f\"R² LightGBM: {r2:.4f}\")\n",
    "\n",
    "# Visualização com Datas\n",
    "dates_test = df['Date'].iloc[-len(y_test):]\n",
    "\n",
    "# Plot\n",
    "fig, axs = plt.subplots(3, 1, figsize=(14, 16), gridspec_kw={'height_ratios': [3, 1, 1]})\n",
    "\n",
    "# 1. Preço Real vs Previsto + MA_14\n",
    "axs[0].plot(dates_test, y_test.values, label=\"Real\", linewidth=2)\n",
    "axs[0].plot(dates_test, y_pred, label=\"Predicted\", linewidth=2)\n",
    "axs[0].plot(dates_test, df[\"MA_14\"].values[-len(y_test):], label=\"MA 14\", color=\"red\", linestyle=\"--\")\n",
    "axs[0].set_title(\"Closing price: Real vs Predicted + MA_14 (LightGBM)\")\n",
    "axs[0].set_ylabel(\"Price\")\n",
    "axs[0].legend()\n",
    "axs[0].grid(True)\n",
    "axs[0].xaxis.set_major_formatter(mdates.DateFormatter('%Y-%m-%d'))\n",
    "axs[0].xaxis.set_major_locator(mdates.WeekdayLocator(interval=2))\n",
    "\n",
    "# 2. RSI\n",
    "axs[1].plot(dates_test, df[\"RSI\"].values[-len(y_test):], label=\"RSI\", color=\"purple\")\n",
    "axs[1].axhline(70, color=\"red\", linestyle=\"--\", linewidth=1)\n",
    "axs[1].axhline(30, color=\"green\", linestyle=\"--\", linewidth=1)\n",
    "axs[1].set_title(\"Relative Strength Index (RSI)\")\n",
    "axs[1].set_ylabel(\"RSI\")\n",
    "axs[1].legend()\n",
    "axs[1].grid(True)\n",
    "axs[1].set_ylim(0, 100)\n",
    "\n",
    "# 3. Erro de previsão\n",
    "error = y_test.values - y_pred\n",
    "axs[2].plot(dates_test, error, label=\"Prediction Error\", color=\"orange\")\n",
    "axs[2].axhline(0, color=\"black\", linestyle=\"-\", linewidth=1)\n",
    "axs[2].fill_between(dates_test, error, 0, where=(error > 0), color='green', alpha=0.3)\n",
    "axs[2].fill_between(dates_test, error, 0, where=(error < 0), color='red', alpha=0.3)\n",
    "axs[2].set_title(\"Prediction Error\")\n",
    "axs[2].set_ylabel(\"Error\")\n",
    "axs[2].set_xlabel(\"Date\")\n",
    "axs[2].legend()\n",
    "axs[2].grid(True)\n",
    "\n",
    "plt.tight_layout()\n",
    "plt.show()\n",
    "\n",
    "# Feature Importance\n",
    "feature_importance = lgbm_model.feature_importances_\n",
    "feature_names = features.copy()\n",
    "\n",
    "# Ordenar por importância\n",
    "sorted_idx = np.argsort(feature_importance)\n",
    "plt.figure(figsize=(10, 6))\n",
    "plt.barh(range(len(sorted_idx)), feature_importance[sorted_idx], align='center')\n",
    "plt.yticks(range(len(sorted_idx)), [feature_names[i] for i in sorted_idx])\n",
    "plt.title('LightGBM Feature Importance')\n",
    "plt.tight_layout()\n",
    "plt.show()"
   ]
  },
  {
   "cell_type": "markdown",
   "metadata": {},
   "source": [
    "# Guardar Modelo\n"
   ]
  },
  {
   "cell_type": "code",
   "execution_count": null,
   "metadata": {},
   "outputs": [],
   "source": [
    "import joblib\n",
    "\n",
    "\n",
    "# Caminho para salvar o modelo\n",
    "joblib.dump(model, 'model/modelo_previsao.pkl')"
   ]
  }
 ],
 "metadata": {
  "kernelspec": {
   "display_name": "base",
   "language": "python",
   "name": "python3"
  },
  "language_info": {
   "codemirror_mode": {
    "name": "ipython",
    "version": 3
   },
   "file_extension": ".py",
   "mimetype": "text/x-python",
   "name": "python",
   "nbconvert_exporter": "python",
   "pygments_lexer": "ipython3",
   "version": "3.12.9"
  }
 },
 "nbformat": 4,
 "nbformat_minor": 2
}
